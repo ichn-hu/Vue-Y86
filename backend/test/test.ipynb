{
 "cells": [
  {
   "cell_type": "code",
   "execution_count": 16,
   "metadata": {
    "collapsed": true
   },
   "outputs": [],
   "source": [
    "import json, os\n",
    "\n",
    "os.chdir(\"C:\\\\Users\\\\ichne\\\\Documents\\\\Vue-Y86\\\\backend\\\\test\")\n",
    "res = json.loads(open('run.txt', 'r').read())"
   ]
  },
  {
   "cell_type": "code",
   "execution_count": 17,
   "metadata": {},
   "outputs": [
    {
     "name": "stdout",
     "output_type": "stream",
     "text": [
      "0 00000000\n",
      "1 06000000\n",
      "2 0c000000\n",
      "3 24000000\n",
      "4 26000000\n",
      "5 28000000\n",
      "6 2e000000\n",
      "7 30000000\n",
      "8 36000000\n",
      "9 38000000\n",
      "10 42000000\n",
      "11 44000000\n",
      "12 46000000\n",
      "13 4c000000\n",
      "14 52000000\n",
      "15 54000000\n",
      "16 56000000\n",
      "17 78000000\n",
      "18 7a000000\n",
      "19 7c000000\n",
      "20 61000000\n",
      "21 63000000\n",
      "22 69000000\n",
      "23 6b000000\n",
      "24 71000000\n",
      "25 73000000\n",
      "26 5b000000\n",
      "27 61000000\n",
      "28 63000000\n",
      "29 69000000\n"
     ]
    }
   ],
   "source": [
    "for i in range(0, 30):\n",
    "    print(i, res[str(i)]['F']['predPC'])"
   ]
  },
  {
   "cell_type": "code",
   "execution_count": 13,
   "metadata": {},
   "outputs": [
    {
     "name": "stdout",
     "output_type": "stream",
     "text": [
      "{ '_Stat': 1,\n",
      "  'bubble': False,\n",
      "  'dstE': 2,\n",
      "  'dstM': 15,\n",
      "  'icode': 6,\n",
      "  'stall': False,\n",
      "  'stat': 1,\n",
      "  'valE': '00000000',\n",
      "  'valM': '04000000'}\n"
     ]
    }
   ],
   "source": [
    "import pprint\n",
    "pp = pprint.PrettyPrinter(indent=2)\n",
    "pp.pprint(res['19']['W'])"
   ]
  },
  {
   "cell_type": "code",
   "execution_count": 14,
   "metadata": {
    "collapsed": true
   },
   "outputs": [],
   "source": [
    "def printAt(cc):\n",
    "    pp.pprint(res[str(cc)]['F'])\n",
    "    pp.pprint(res[str(cc + 1)]['D'])\n",
    "    pp.pprint(res[str(cc + 2)]['E'])\n",
    "    pp.pprint(res[str(cc + 3)]['M'])\n",
    "    pp.pprint(res[str(cc + 4)]['W'])"
   ]
  },
  {
   "cell_type": "code",
   "execution_count": 15,
   "metadata": {},
   "outputs": [
    {
     "name": "stdout",
     "output_type": "stream",
     "text": [
      "{ '_icode': 6,\n",
      "  '_ifun': 2,\n",
      "  '_imem_error': False,\n",
      "  '_instr_valid': True,\n",
      "  '_need_regid': True,\n",
      "  '_need_valC': False,\n",
      "  '_pc': '54000000',\n",
      "  '_predPC': '56000000',\n",
      "  '_rA': 2,\n",
      "  '_rB': 2,\n",
      "  '_stat': 1,\n",
      "  '_valC': None,\n",
      "  '_valP': '56000000',\n",
      "  'bubble': False,\n",
      "  'predPC': '54000000',\n",
      "  'stall': False}\n",
      "{ '_dstE': 2,\n",
      "  '_dstM': 15,\n",
      "  '_srcA': 2,\n",
      "  '_srcB': 2,\n",
      "  '_valA': '14000000',\n",
      "  '_valB': 'e8000000',\n",
      "  'bubble': False,\n",
      "  'icode': 6,\n",
      "  'ifun': 2,\n",
      "  'rA': 2,\n",
      "  'rB': 2,\n",
      "  'stall': False,\n",
      "  'stat': 1,\n",
      "  'valC': None,\n",
      "  'valP': '56000000'}\n",
      "{ '_Cnd': False,\n",
      "  '_aluFun': 2,\n",
      "  '_dstE': 2,\n",
      "  '_set_cc': True,\n",
      "  '_valA': '14000000',\n",
      "  '_valB': 'e8000000',\n",
      "  '_valE': '00000000',\n",
      "  'bubble': False,\n",
      "  'dstE': 2,\n",
      "  'dstM': 15,\n",
      "  'icode': 6,\n",
      "  'ifun': 2,\n",
      "  'srcA': 2,\n",
      "  'srcB': 2,\n",
      "  'stall': False,\n",
      "  'stat': 1,\n",
      "  'valA': '14000000',\n",
      "  'valB': 'e8000000',\n",
      "  'valC': None}\n",
      "{ 'Cnd': False,\n",
      "  '_dmem_error': False,\n",
      "  '_mem_addr': None,\n",
      "  '_mem_read': False,\n",
      "  '_mem_write': False,\n",
      "  '_stat': 1,\n",
      "  'bubble': False,\n",
      "  'dstE': 2,\n",
      "  'icode': 6,\n",
      "  'ifun': 2,\n",
      "  'stall': False,\n",
      "  'stat': 1,\n",
      "  'valA': '14000000',\n",
      "  'valE': '00000000'}\n",
      "{ '_Stat': 1,\n",
      "  'bubble': False,\n",
      "  'dstE': 2,\n",
      "  'dstM': 15,\n",
      "  'icode': 6,\n",
      "  'stall': False,\n",
      "  'stat': 1,\n",
      "  'valE': '00000000',\n",
      "  'valM': '04000000'}\n"
     ]
    }
   ],
   "source": [
    "printAt(15)"
   ]
  },
  {
   "cell_type": "code",
   "execution_count": null,
   "metadata": {
    "collapsed": true
   },
   "outputs": [],
   "source": []
  }
 ],
 "metadata": {
  "kernelspec": {
   "display_name": "Python 3",
   "language": "python",
   "name": "python3"
  },
  "language_info": {
   "codemirror_mode": {
    "name": "ipython",
    "version": 3
   },
   "file_extension": ".py",
   "mimetype": "text/x-python",
   "name": "python",
   "nbconvert_exporter": "python",
   "pygments_lexer": "ipython3",
   "version": "3.6.3"
  }
 },
 "nbformat": 4,
 "nbformat_minor": 2
}
